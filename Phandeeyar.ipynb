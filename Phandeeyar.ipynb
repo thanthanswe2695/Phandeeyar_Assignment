{
 "cells": [
  {
   "cell_type": "markdown",
   "metadata": {},
   "source": [
    "# Phandeeyar Data Analyst Assignment"
   ]
  },
  {
   "cell_type": "markdown",
   "metadata": {},
   "source": [
    "# Description\n",
    "        Open Hluttaw is a zone with a core mission to make it easy for citizens and their parliamentary respresentative to engage in an active and informed dialogue.\n",
    "        - Do you want to find who your respresentatives are?\n",
    "        - Do you want to know an information about them?\n",
    "        - Or identify who belongs to a committee you care about?\n",
    "        The objective of Open Hluttaw can help you through hundreds of parliamentary respresentative profiles."
   ]
  },
  {
   "cell_type": "markdown",
   "metadata": {},
   "source": [
    "# Data Understanding \n",
    "    - Data is collected from  http://api.openhluttaw.org/my/persons as a json format. It has many variables but I had selected the related variables.I would like to know the number of MPs and the number of constituency for each region in that json file.I extracted 1 call of API , recieved 30 number of ids(MPs) and searched the constituency value is located at (memberships > post > label).\n",
    "    - Region value is getting from constituency value which is used split() method in python.\n",
    "    - Create a dataframe(Phandeeyar) includes (MP_ID,Region,Constituency).\n",
    "    - Checked the number of rows and columns,how many unique count,missing values.\n",
    "    - Save Phandeeyar dataframe as a Phandeeyar.txt file to apply data visualization part in Power BI."
   ]
  },
  {
   "cell_type": "markdown",
   "metadata": {},
   "source": [
    "#### Importing the libraries"
   ]
  },
  {
   "cell_type": "code",
   "execution_count": 1,
   "metadata": {},
   "outputs": [],
   "source": [
    "import requests\n",
    "import json\n",
    "import pandas as pd"
   ]
  },
  {
   "cell_type": "markdown",
   "metadata": {},
   "source": [
    "### Get Data from http://api.openhluttaw.org/my/persons"
   ]
  },
  {
   "cell_type": "code",
   "execution_count": 2,
   "metadata": {},
   "outputs": [],
   "source": [
    "req = requests.get('http://api.openhluttaw.org/my/persons') \n",
    "data_result = req.json()[\"results\"]\n",
    "data =json.dumps(data_result,indent=2)"
   ]
  },
  {
   "cell_type": "markdown",
   "metadata": {},
   "source": [
    "#### Find out the number of MPs and Constituency in a list(data result). "
   ]
  },
  {
   "cell_type": "code",
   "execution_count": 3,
   "metadata": {},
   "outputs": [],
   "source": [
    "MP=[]\n",
    "for i, teams in enumerate(data_result):\n",
    "    MP_ID = teams[\"id\"]\n",
    "    \n",
    "    for member in teams['memberships']:\n",
    "        \n",
    "        if member is None:       # check member value is none \n",
    "            False\n",
    "        else:\n",
    "            if (member['post_id'] or member['post']) is None:  # check member['post_id'] and member['post'] is none\n",
    "                False\n",
    "                \n",
    "            else:\n",
    "                if type(member['post']) is dict: \n",
    "                    \n",
    "                    if member['post']['label'] is None: \n",
    "                        break\n",
    "                        \n",
    "                    else:\n",
    "                        region = member[\"post\"][\"label\"].split(\"-\")[0]    # create a region value \n",
    "                        MP.append(((MP_ID,region,member['post']['label'])))  "
   ]
  },
  {
   "cell_type": "markdown",
   "metadata": {},
   "source": [
    "### Create a dataframe"
   ]
  },
  {
   "cell_type": "code",
   "execution_count": 4,
   "metadata": {},
   "outputs": [
    {
     "data": {
      "text/html": [
       "<div>\n",
       "<style scoped>\n",
       "    .dataframe tbody tr th:only-of-type {\n",
       "        vertical-align: middle;\n",
       "    }\n",
       "\n",
       "    .dataframe tbody tr th {\n",
       "        vertical-align: top;\n",
       "    }\n",
       "\n",
       "    .dataframe thead th {\n",
       "        text-align: right;\n",
       "    }\n",
       "</style>\n",
       "<table border=\"1\" class=\"dataframe\">\n",
       "  <thead>\n",
       "    <tr style=\"text-align: right;\">\n",
       "      <th></th>\n",
       "      <th>MP_ID</th>\n",
       "      <th>Region</th>\n",
       "      <th>Constituency</th>\n",
       "    </tr>\n",
       "  </thead>\n",
       "  <tbody>\n",
       "    <tr>\n",
       "      <th>0</th>\n",
       "      <td>c08a4d1bc1a64c658e73772d583b740a</td>\n",
       "      <td>ဧရာဝတီ</td>\n",
       "      <td>ဧရာဝတီ-12</td>\n",
       "    </tr>\n",
       "    <tr>\n",
       "      <th>1</th>\n",
       "      <td>77f7a9f53643408796365ea4123c79f2</td>\n",
       "      <td>ချင်း</td>\n",
       "      <td>ချင်း-12</td>\n",
       "    </tr>\n",
       "    <tr>\n",
       "      <th>2</th>\n",
       "      <td>bf40ac7d5c984beb9b87e39d2361d0b5</td>\n",
       "      <td>ကချင်</td>\n",
       "      <td>ကချင်-4</td>\n",
       "    </tr>\n",
       "    <tr>\n",
       "      <th>3</th>\n",
       "      <td>132778240b2246f68d4a7358871b9937</td>\n",
       "      <td>ဧရာဝတီ</td>\n",
       "      <td>ဧရာဝတီ-2</td>\n",
       "    </tr>\n",
       "    <tr>\n",
       "      <th>4</th>\n",
       "      <td>bef1474c16284c778f4e6a9854c4af13</td>\n",
       "      <td>ဧရာဝတီ</td>\n",
       "      <td>ဧရာဝတီ-4</td>\n",
       "    </tr>\n",
       "    <tr>\n",
       "      <th>5</th>\n",
       "      <td>0f457518b28d4bedb079e0cb0756ab60</td>\n",
       "      <td>ဧရာဝတီ</td>\n",
       "      <td>ဧရာဝတီ-5</td>\n",
       "    </tr>\n",
       "    <tr>\n",
       "      <th>6</th>\n",
       "      <td>ea8e2e91fe104c5e9b876f8c1a9b600b</td>\n",
       "      <td>ဧရာဝတီ</td>\n",
       "      <td>ဧရာဝတီ-6</td>\n",
       "    </tr>\n",
       "    <tr>\n",
       "      <th>7</th>\n",
       "      <td>3c529c34c4ab4f9a80c6b4143fbc791b</td>\n",
       "      <td>ဧရာဝတီ</td>\n",
       "      <td>ဧရာဝတီ-8</td>\n",
       "    </tr>\n",
       "    <tr>\n",
       "      <th>8</th>\n",
       "      <td>7c77665ab3fb4ce781e48b7b4906207d</td>\n",
       "      <td>ဧရာဝတီ</td>\n",
       "      <td>ဧရာဝတီ-9</td>\n",
       "    </tr>\n",
       "    <tr>\n",
       "      <th>9</th>\n",
       "      <td>f832b576ec1f465abb3fc5923cd495ca</td>\n",
       "      <td>ပဲခူး</td>\n",
       "      <td>ပဲခူး-1</td>\n",
       "    </tr>\n",
       "    <tr>\n",
       "      <th>10</th>\n",
       "      <td>16d54eca4c5a4aeeb4112ebee727d9a5</td>\n",
       "      <td>ပဲခူး</td>\n",
       "      <td>ပဲခူး-10</td>\n",
       "    </tr>\n",
       "    <tr>\n",
       "      <th>11</th>\n",
       "      <td>7d2c8645d35c44da86ad3c16191a1a44</td>\n",
       "      <td>ပဲခူး</td>\n",
       "      <td>ပဲခူး-2</td>\n",
       "    </tr>\n",
       "    <tr>\n",
       "      <th>12</th>\n",
       "      <td>bbf187ea236d4c959b681d397744c590</td>\n",
       "      <td>ပဲခူး</td>\n",
       "      <td>ပဲခူး-3</td>\n",
       "    </tr>\n",
       "    <tr>\n",
       "      <th>13</th>\n",
       "      <td>f58f40e1ae8a417cbc85f9d4ce614719</td>\n",
       "      <td>လူမှုဝန်ထမ်း၊ ကယ်ဆယ်ရေးနှင့် ပြန်လည်နေရာချထားရ...</td>\n",
       "      <td>လူမှုဝန်ထမ်း၊ ကယ်ဆယ်ရေးနှင့် ပြန်လည်နေရာချထားရ...</td>\n",
       "    </tr>\n",
       "    <tr>\n",
       "      <th>14</th>\n",
       "      <td>2bc27a30274f4c14836577bd2139bdd5</td>\n",
       "      <td>ပဲခူး</td>\n",
       "      <td>ပဲခူး-5</td>\n",
       "    </tr>\n",
       "    <tr>\n",
       "      <th>15</th>\n",
       "      <td>03b386f3e8184c11b06e5aaf15fe1fb8</td>\n",
       "      <td>ပဲခူး</td>\n",
       "      <td>ပဲခူး-7</td>\n",
       "    </tr>\n",
       "    <tr>\n",
       "      <th>16</th>\n",
       "      <td>21c09e7a776b46a2b4cbd95fe6ecc4d0</td>\n",
       "      <td>ပဲခူး</td>\n",
       "      <td>ပဲခူး-8</td>\n",
       "    </tr>\n",
       "    <tr>\n",
       "      <th>17</th>\n",
       "      <td>c4d91026b6eb48e087dff6fd324c7041</td>\n",
       "      <td>ပဲခူး</td>\n",
       "      <td>ပဲခူး-9</td>\n",
       "    </tr>\n",
       "    <tr>\n",
       "      <th>18</th>\n",
       "      <td>fc952094a42a49eeb6a191ac65789529</td>\n",
       "      <td>ချင်း</td>\n",
       "      <td>ချင်း-10</td>\n",
       "    </tr>\n",
       "    <tr>\n",
       "      <th>19</th>\n",
       "      <td>bdf0e64cc04644f1b9c3925f9cc042af</td>\n",
       "      <td>ချင်း</td>\n",
       "      <td>ချင်း-11</td>\n",
       "    </tr>\n",
       "    <tr>\n",
       "      <th>20</th>\n",
       "      <td>213fd42b962f4e6b99b6f3017dfb5231</td>\n",
       "      <td>ကချင်</td>\n",
       "      <td>ကချင်-2</td>\n",
       "    </tr>\n",
       "    <tr>\n",
       "      <th>21</th>\n",
       "      <td>6f8186ced34a483f983595534fa54570</td>\n",
       "      <td>ချင်း</td>\n",
       "      <td>ချင်း-2</td>\n",
       "    </tr>\n",
       "    <tr>\n",
       "      <th>22</th>\n",
       "      <td>a73230f0627a4a619954b4973de5f91c</td>\n",
       "      <td>ချင်း</td>\n",
       "      <td>ချင်း-4</td>\n",
       "    </tr>\n",
       "    <tr>\n",
       "      <th>23</th>\n",
       "      <td>4b9509d517dc4c27bbcefe27c7e338a3</td>\n",
       "      <td>ချင်း</td>\n",
       "      <td>ချင်း-5</td>\n",
       "    </tr>\n",
       "    <tr>\n",
       "      <th>24</th>\n",
       "      <td>86491c10edfb4e4b9efbc88fe14e0150</td>\n",
       "      <td>ချင်း</td>\n",
       "      <td>ချင်း-6</td>\n",
       "    </tr>\n",
       "    <tr>\n",
       "      <th>25</th>\n",
       "      <td>9de24bf0b5c84505b1e9f96004568653</td>\n",
       "      <td>ချင်း</td>\n",
       "      <td>ချင်း-7</td>\n",
       "    </tr>\n",
       "    <tr>\n",
       "      <th>26</th>\n",
       "      <td>385a793629bb4a55b4758538298ffbb0</td>\n",
       "      <td>ကချင်</td>\n",
       "      <td>ကချင်-9</td>\n",
       "    </tr>\n",
       "    <tr>\n",
       "      <th>27</th>\n",
       "      <td>e025c34273294e819570c6afd6963021</td>\n",
       "      <td>ကချင်</td>\n",
       "      <td>ကချင်-1</td>\n",
       "    </tr>\n",
       "    <tr>\n",
       "      <th>28</th>\n",
       "      <td>37d8113fdf904c058cf0c5d88b8cf316</td>\n",
       "      <td>မကွေး</td>\n",
       "      <td>မကွေး-11</td>\n",
       "    </tr>\n",
       "  </tbody>\n",
       "</table>\n",
       "</div>"
      ],
      "text/plain": [
       "                               MP_ID  \\\n",
       "0   c08a4d1bc1a64c658e73772d583b740a   \n",
       "1   77f7a9f53643408796365ea4123c79f2   \n",
       "2   bf40ac7d5c984beb9b87e39d2361d0b5   \n",
       "3   132778240b2246f68d4a7358871b9937   \n",
       "4   bef1474c16284c778f4e6a9854c4af13   \n",
       "5   0f457518b28d4bedb079e0cb0756ab60   \n",
       "6   ea8e2e91fe104c5e9b876f8c1a9b600b   \n",
       "7   3c529c34c4ab4f9a80c6b4143fbc791b   \n",
       "8   7c77665ab3fb4ce781e48b7b4906207d   \n",
       "9   f832b576ec1f465abb3fc5923cd495ca   \n",
       "10  16d54eca4c5a4aeeb4112ebee727d9a5   \n",
       "11  7d2c8645d35c44da86ad3c16191a1a44   \n",
       "12  bbf187ea236d4c959b681d397744c590   \n",
       "13  f58f40e1ae8a417cbc85f9d4ce614719   \n",
       "14  2bc27a30274f4c14836577bd2139bdd5   \n",
       "15  03b386f3e8184c11b06e5aaf15fe1fb8   \n",
       "16  21c09e7a776b46a2b4cbd95fe6ecc4d0   \n",
       "17  c4d91026b6eb48e087dff6fd324c7041   \n",
       "18  fc952094a42a49eeb6a191ac65789529   \n",
       "19  bdf0e64cc04644f1b9c3925f9cc042af   \n",
       "20  213fd42b962f4e6b99b6f3017dfb5231   \n",
       "21  6f8186ced34a483f983595534fa54570   \n",
       "22  a73230f0627a4a619954b4973de5f91c   \n",
       "23  4b9509d517dc4c27bbcefe27c7e338a3   \n",
       "24  86491c10edfb4e4b9efbc88fe14e0150   \n",
       "25  9de24bf0b5c84505b1e9f96004568653   \n",
       "26  385a793629bb4a55b4758538298ffbb0   \n",
       "27  e025c34273294e819570c6afd6963021   \n",
       "28  37d8113fdf904c058cf0c5d88b8cf316   \n",
       "\n",
       "                                               Region  \\\n",
       "0                                              ဧရာဝတီ   \n",
       "1                                               ချင်း   \n",
       "2                                               ကချင်   \n",
       "3                                              ဧရာဝတီ   \n",
       "4                                              ဧရာဝတီ   \n",
       "5                                              ဧရာဝတီ   \n",
       "6                                              ဧရာဝတီ   \n",
       "7                                              ဧရာဝတီ   \n",
       "8                                              ဧရာဝတီ   \n",
       "9                                               ပဲခူး   \n",
       "10                                              ပဲခူး   \n",
       "11                                              ပဲခူး   \n",
       "12                                              ပဲခူး   \n",
       "13  လူမှုဝန်ထမ်း၊ ကယ်ဆယ်ရေးနှင့် ပြန်လည်နေရာချထားရ...   \n",
       "14                                              ပဲခူး   \n",
       "15                                              ပဲခူး   \n",
       "16                                              ပဲခူး   \n",
       "17                                              ပဲခူး   \n",
       "18                                              ချင်း   \n",
       "19                                              ချင်း   \n",
       "20                                              ကချင်   \n",
       "21                                              ချင်း   \n",
       "22                                              ချင်း   \n",
       "23                                              ချင်း   \n",
       "24                                              ချင်း   \n",
       "25                                              ချင်း   \n",
       "26                                              ကချင်   \n",
       "27                                              ကချင်   \n",
       "28                                              မကွေး   \n",
       "\n",
       "                                         Constituency  \n",
       "0                                           ဧရာဝတီ-12  \n",
       "1                                            ချင်း-12  \n",
       "2                                             ကချင်-4  \n",
       "3                                            ဧရာဝတီ-2  \n",
       "4                                            ဧရာဝတီ-4  \n",
       "5                                            ဧရာဝတီ-5  \n",
       "6                                            ဧရာဝတီ-6  \n",
       "7                                            ဧရာဝတီ-8  \n",
       "8                                            ဧရာဝတီ-9  \n",
       "9                                             ပဲခူး-1  \n",
       "10                                           ပဲခူး-10  \n",
       "11                                            ပဲခူး-2  \n",
       "12                                            ပဲခူး-3  \n",
       "13  လူမှုဝန်ထမ်း၊ ကယ်ဆယ်ရေးနှင့် ပြန်လည်နေရာချထားရ...  \n",
       "14                                            ပဲခူး-5  \n",
       "15                                            ပဲခူး-7  \n",
       "16                                            ပဲခူး-8  \n",
       "17                                            ပဲခူး-9  \n",
       "18                                           ချင်း-10  \n",
       "19                                           ချင်း-11  \n",
       "20                                            ကချင်-2  \n",
       "21                                            ချင်း-2  \n",
       "22                                            ချင်း-4  \n",
       "23                                            ချင်း-5  \n",
       "24                                            ချင်း-6  \n",
       "25                                            ချင်း-7  \n",
       "26                                            ကချင်-9  \n",
       "27                                            ကချင်-1  \n",
       "28                                           မကွေး-11  "
      ]
     },
     "execution_count": 4,
     "metadata": {},
     "output_type": "execute_result"
    }
   ],
   "source": [
    "Phandeeyar = pd.DataFrame(MP,columns=[u'MP_ID',u'Region',u'Constituency'])\n",
    "Phandeeyar"
   ]
  },
  {
   "cell_type": "code",
   "execution_count": 5,
   "metadata": {},
   "outputs": [
    {
     "data": {
      "text/plain": [
       "(29, 3)"
      ]
     },
     "execution_count": 5,
     "metadata": {},
     "output_type": "execute_result"
    }
   ],
   "source": [
    "Phandeeyar.shape # number of rows and columns "
   ]
  },
  {
   "cell_type": "code",
   "execution_count": 6,
   "metadata": {},
   "outputs": [
    {
     "data": {
      "text/plain": [
       "MP_ID           object\n",
       "Region          object\n",
       "Constituency    object\n",
       "dtype: object"
      ]
     },
     "execution_count": 6,
     "metadata": {},
     "output_type": "execute_result"
    }
   ],
   "source": [
    "Phandeeyar.dtypes"
   ]
  },
  {
   "cell_type": "code",
   "execution_count": 7,
   "metadata": {},
   "outputs": [
    {
     "data": {
      "text/plain": [
       "array(['ဧရာဝတီ', 'ချင်း', 'ကချင်', 'ပဲခူး',\n",
       "       'လူမှုဝန်ထမ်း၊ ကယ်ဆယ်ရေးနှင့် ပြန်လည်နေရာချထားရေး ၀န်ကြီးဌာန ဝန်ကြီး',\n",
       "       'မကွေး'], dtype=object)"
      ]
     },
     "execution_count": 7,
     "metadata": {},
     "output_type": "execute_result"
    }
   ],
   "source": [
    "Phandeeyar['Region'].unique()   "
   ]
  },
  {
   "cell_type": "code",
   "execution_count": 8,
   "metadata": {},
   "outputs": [
    {
     "data": {
      "text/plain": [
       "array(['ဧရာဝတီ-12', 'ချင်း-12', 'ကချင်-4', 'ဧရာဝတီ-2', 'ဧရာဝတီ-4',\n",
       "       'ဧရာဝတီ-5', 'ဧရာဝတီ-6', 'ဧရာဝတီ-8', 'ဧရာဝတီ-9', 'ပဲခူး-1',\n",
       "       'ပဲခူး-10', 'ပဲခူး-2', 'ပဲခူး-3',\n",
       "       'လူမှုဝန်ထမ်း၊ ကယ်ဆယ်ရေးနှင့် ပြန်လည်နေရာချထားရေး ၀န်ကြီးဌာန ဝန်ကြီး',\n",
       "       'ပဲခူး-5', 'ပဲခူး-7', 'ပဲခူး-8', 'ပဲခူး-9', 'ချင်း-10', 'ချင်း-11',\n",
       "       'ကချင်-2', 'ချင်း-2', 'ချင်း-4', 'ချင်း-5', 'ချင်း-6', 'ချင်း-7',\n",
       "       'ကချင်-9', 'ကချင်-1', 'မကွေး-11'], dtype=object)"
      ]
     },
     "execution_count": 8,
     "metadata": {},
     "output_type": "execute_result"
    }
   ],
   "source": [
    "Phandeeyar['Constituency'].unique()"
   ]
  },
  {
   "cell_type": "markdown",
   "metadata": {},
   "source": [
    "### Data Cleaning"
   ]
  },
  {
   "cell_type": "markdown",
   "metadata": {},
   "source": [
    "#### Remove invalid region name"
   ]
  },
  {
   "cell_type": "code",
   "execution_count": 9,
   "metadata": {},
   "outputs": [],
   "source": [
    "for index, row in Phandeeyar.iterrows():\n",
    "    if (row[\"Constituency\"].find('-') == -1):\n",
    "        Phandeeyar.drop(index, inplace=True)"
   ]
  },
  {
   "cell_type": "code",
   "execution_count": 10,
   "metadata": {},
   "outputs": [
    {
     "data": {
      "text/plain": [
       "(28, 3)"
      ]
     },
     "execution_count": 10,
     "metadata": {},
     "output_type": "execute_result"
    }
   ],
   "source": [
    "Phandeeyar.shape"
   ]
  },
  {
   "cell_type": "markdown",
   "metadata": {},
   "source": [
    "#### Save (Phandeeyar.txt) file"
   ]
  },
  {
   "cell_type": "code",
   "execution_count": 12,
   "metadata": {},
   "outputs": [],
   "source": [
    "Phandeeyar.to_csv ('Phandeeyar.txt', index = False, header=True,sep=',', encoding = 'utf-8')"
   ]
  }
 ],
 "metadata": {
  "kernelspec": {
   "display_name": "Python 3",
   "language": "python",
   "name": "python3"
  },
  "language_info": {
   "codemirror_mode": {
    "name": "ipython",
    "version": 3
   },
   "file_extension": ".py",
   "mimetype": "text/x-python",
   "name": "python",
   "nbconvert_exporter": "python",
   "pygments_lexer": "ipython3",
   "version": "3.7.6"
  }
 },
 "nbformat": 4,
 "nbformat_minor": 4
}
